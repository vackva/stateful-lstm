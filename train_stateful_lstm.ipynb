{
 "cells": [
  {
   "cell_type": "code",
   "execution_count": 4,
   "id": "initial_id",
   "metadata": {
    "collapsed": true,
    "ExecuteTime": {
     "end_time": "2024-01-03T11:47:09.333314300Z",
     "start_time": "2024-01-03T11:47:00.885322100Z"
    }
   },
   "outputs": [
    {
     "name": "stdout",
     "output_type": "stream",
     "text": [
      "Requirement already satisfied: numpy in c:\\users\\valentin ackva\\documents\\code\\automated-guitarampmodelling\\venv\\lib\\site-packages (1.24.4)\n",
      "Requirement already satisfied: scipy in c:\\users\\valentin ackva\\documents\\code\\automated-guitarampmodelling\\venv\\lib\\site-packages (1.10.1)\n",
      "Requirement already satisfied: torch in c:\\users\\valentin ackva\\documents\\code\\automated-guitarampmodelling\\venv\\lib\\site-packages (2.1.2)\n",
      "Collecting torchvision\n",
      "  Obtaining dependency information for torchvision from https://files.pythonhosted.org/packages/54/4b/b0861005f5d4370b3529f31d5e6461c4faf9bbbcbe916480cceebc885aa8/torchvision-0.16.2-cp38-cp38-win_amd64.whl.metadata\n",
      "  Downloading torchvision-0.16.2-cp38-cp38-win_amd64.whl.metadata (6.6 kB)\n",
      "Collecting torchaudio\n",
      "  Obtaining dependency information for torchaudio from https://files.pythonhosted.org/packages/2a/36/96895107b44f41cda87bf41d344cc7b7a1a4be8fff9bda1c66da5ab30051/torchaudio-2.1.2-cp38-cp38-win_amd64.whl.metadata\n",
      "  Downloading torchaudio-2.1.2-cp38-cp38-win_amd64.whl.metadata (6.4 kB)\n",
      "Requirement already satisfied: filelock in c:\\users\\valentin ackva\\documents\\code\\automated-guitarampmodelling\\venv\\lib\\site-packages (from torch) (3.13.1)\n",
      "Requirement already satisfied: typing-extensions in c:\\users\\valentin ackva\\documents\\code\\automated-guitarampmodelling\\venv\\lib\\site-packages (from torch) (4.9.0)\n",
      "Requirement already satisfied: sympy in c:\\users\\valentin ackva\\documents\\code\\automated-guitarampmodelling\\venv\\lib\\site-packages (from torch) (1.12)\n",
      "Requirement already satisfied: networkx in c:\\users\\valentin ackva\\documents\\code\\automated-guitarampmodelling\\venv\\lib\\site-packages (from torch) (3.1)\n",
      "Requirement already satisfied: jinja2 in c:\\users\\valentin ackva\\documents\\code\\automated-guitarampmodelling\\venv\\lib\\site-packages (from torch) (3.1.2)\n",
      "Requirement already satisfied: fsspec in c:\\users\\valentin ackva\\documents\\code\\automated-guitarampmodelling\\venv\\lib\\site-packages (from torch) (2023.12.2)\n",
      "Requirement already satisfied: requests in c:\\users\\valentin ackva\\documents\\code\\automated-guitarampmodelling\\venv\\lib\\site-packages (from torchvision) (2.31.0)\n",
      "Collecting pillow!=8.3.*,>=5.3.0 (from torchvision)\n",
      "  Obtaining dependency information for pillow!=8.3.*,>=5.3.0 from https://files.pythonhosted.org/packages/0d/a9/1f4c54afaf2e689ba40b7688095bb70be8e84ec206c7dfe156c0645a0d52/pillow-10.2.0-cp38-cp38-win_amd64.whl.metadata\n",
      "  Downloading pillow-10.2.0-cp38-cp38-win_amd64.whl.metadata (9.9 kB)\n",
      "Requirement already satisfied: MarkupSafe>=2.0 in c:\\users\\valentin ackva\\documents\\code\\automated-guitarampmodelling\\venv\\lib\\site-packages (from jinja2->torch) (2.1.3)\n",
      "Requirement already satisfied: charset-normalizer<4,>=2 in c:\\users\\valentin ackva\\documents\\code\\automated-guitarampmodelling\\venv\\lib\\site-packages (from requests->torchvision) (3.3.2)\n",
      "Requirement already satisfied: idna<4,>=2.5 in c:\\users\\valentin ackva\\documents\\code\\automated-guitarampmodelling\\venv\\lib\\site-packages (from requests->torchvision) (3.6)\n",
      "Requirement already satisfied: urllib3<3,>=1.21.1 in c:\\users\\valentin ackva\\documents\\code\\automated-guitarampmodelling\\venv\\lib\\site-packages (from requests->torchvision) (2.1.0)\n",
      "Requirement already satisfied: certifi>=2017.4.17 in c:\\users\\valentin ackva\\documents\\code\\automated-guitarampmodelling\\venv\\lib\\site-packages (from requests->torchvision) (2023.11.17)\n",
      "Requirement already satisfied: mpmath>=0.19 in c:\\users\\valentin ackva\\documents\\code\\automated-guitarampmodelling\\venv\\lib\\site-packages (from sympy->torch) (1.3.0)\n",
      "Downloading torchvision-0.16.2-cp38-cp38-win_amd64.whl (1.1 MB)\n",
      "   ---------------------------------------- 0.0/1.1 MB ? eta -:--:--\n",
      "   - -------------------------------------- 0.0/1.1 MB 991.0 kB/s eta 0:00:02\n",
      "   --- ------------------------------------ 0.1/1.1 MB 1.7 MB/s eta 0:00:01\n",
      "   ------- -------------------------------- 0.2/1.1 MB 1.6 MB/s eta 0:00:01\n",
      "   -------- ------------------------------- 0.3/1.1 MB 1.6 MB/s eta 0:00:01\n",
      "   -------- ------------------------------- 0.3/1.1 MB 1.6 MB/s eta 0:00:01\n",
      "   ------------------ --------------------- 0.5/1.1 MB 1.9 MB/s eta 0:00:01\n",
      "   -------------------- ------------------- 0.6/1.1 MB 1.8 MB/s eta 0:00:01\n",
      "   -------------------------- ------------- 0.7/1.1 MB 2.1 MB/s eta 0:00:01\n",
      "   ------------------------------ --------- 0.9/1.1 MB 2.1 MB/s eta 0:00:01\n",
      "   ------------------------------------- -- 1.1/1.1 MB 2.4 MB/s eta 0:00:01\n",
      "   ---------------------------------------- 1.1/1.1 MB 2.4 MB/s eta 0:00:00\n",
      "Downloading torchaudio-2.1.2-cp38-cp38-win_amd64.whl (2.3 MB)\n",
      "   ---------------------------------------- 0.0/2.3 MB ? eta -:--:--\n",
      "   --- ------------------------------------ 0.2/2.3 MB 6.3 MB/s eta 0:00:01\n",
      "   ------ --------------------------------- 0.4/2.3 MB 4.5 MB/s eta 0:00:01\n",
      "   ----------- ---------------------------- 0.6/2.3 MB 5.1 MB/s eta 0:00:01\n",
      "   ----------- ---------------------------- 0.7/2.3 MB 4.2 MB/s eta 0:00:01\n",
      "   --------------- ------------------------ 0.9/2.3 MB 3.9 MB/s eta 0:00:01\n",
      "   ------------------- -------------------- 1.2/2.3 MB 3.9 MB/s eta 0:00:01\n",
      "   ------------------------ --------------- 1.4/2.3 MB 4.2 MB/s eta 0:00:01\n",
      "   ------------------------------ --------- 1.8/2.3 MB 4.1 MB/s eta 0:00:01\n",
      "   -------------------------------- ------- 1.9/2.3 MB 4.0 MB/s eta 0:00:01\n",
      "   -------------------------------- ------- 1.9/2.3 MB 4.0 MB/s eta 0:00:01\n",
      "   ------------------------------------- -- 2.2/2.3 MB 3.8 MB/s eta 0:00:01\n",
      "   ---------------------------------------  2.3/2.3 MB 3.9 MB/s eta 0:00:01\n",
      "   ---------------------------------------- 2.3/2.3 MB 3.6 MB/s eta 0:00:00\n",
      "Downloading pillow-10.2.0-cp38-cp38-win_amd64.whl (2.6 MB)\n",
      "   ---------------------------------------- 0.0/2.6 MB ? eta -:--:--\n",
      "   ---- ----------------------------------- 0.3/2.6 MB 8.9 MB/s eta 0:00:01\n",
      "   ------ --------------------------------- 0.5/2.6 MB 5.6 MB/s eta 0:00:01\n",
      "   ------------ --------------------------- 0.8/2.6 MB 6.2 MB/s eta 0:00:01\n",
      "   -------------- ------------------------- 1.0/2.6 MB 5.5 MB/s eta 0:00:01\n",
      "   -------------------- ------------------- 1.3/2.6 MB 6.0 MB/s eta 0:00:01\n",
      "   -------------------- ------------------- 1.3/2.6 MB 5.7 MB/s eta 0:00:01\n",
      "   --------------------------- ------------ 1.8/2.6 MB 6.0 MB/s eta 0:00:01\n",
      "   ------------------------------ --------- 2.0/2.6 MB 5.6 MB/s eta 0:00:01\n",
      "   ---------------------------------- ----- 2.3/2.6 MB 6.0 MB/s eta 0:00:01\n",
      "   -------------------------------------- - 2.5/2.6 MB 5.8 MB/s eta 0:00:01\n",
      "   ---------------------------------------- 2.6/2.6 MB 5.4 MB/s eta 0:00:00\n",
      "Installing collected packages: pillow, torchvision, torchaudio\n",
      "Successfully installed pillow-10.2.0 torchaudio-2.1.2 torchvision-0.16.2\n",
      "Note: you may need to restart the kernel to use updated packages.\n"
     ]
    },
    {
     "name": "stderr",
     "output_type": "stream",
     "text": [
      "\n",
      "[notice] A new release of pip is available: 23.2.1 -> 23.3.2\n",
      "[notice] To update, run: python.exe -m pip install --upgrade pip\n"
     ]
    }
   ],
   "source": [
    "pip install numpy scipy torch torchvision torchaudio"
   ]
  },
  {
   "cell_type": "code",
   "execution_count": 5,
   "outputs": [],
   "source": [
    "import sys\n",
    "import os\n",
    "import numpy as np\n",
    "from scipy.io import wavfile"
   ],
   "metadata": {
    "collapsed": false,
    "ExecuteTime": {
     "end_time": "2024-01-03T11:47:13.084004800Z",
     "start_time": "2024-01-03T11:47:13.038497300Z"
    }
   },
   "id": "d80fc465400cc842"
  },
  {
   "cell_type": "code",
   "execution_count": 7,
   "outputs": [],
   "source": [
    "import numpy as np\n",
    "import random\n",
    "import torch\n",
    "import torch.optim as optim\n",
    "import argparse\n",
    "import time\n",
    "import csv\n",
    "from scipy.io.wavfile import write"
   ],
   "metadata": {
    "collapsed": false,
    "ExecuteTime": {
     "end_time": "2024-01-03T11:47:53.085664500Z",
     "start_time": "2024-01-03T11:47:53.076665Z"
    }
   },
   "id": "685273005955849a"
  },
  {
   "cell_type": "markdown",
   "source": [
    "# Preprocessing\n",
    "\n",
    "This code is ...."
   ],
   "metadata": {
    "collapsed": false
   },
   "id": "a4f57b51c451debb"
  },
  {
   "cell_type": "markdown",
   "source": [
    "### Code\n",
    "\n",
    "Define all necessary functions"
   ],
   "metadata": {
    "collapsed": false
   },
   "id": "358fae992edd"
  },
  {
   "cell_type": "code",
   "execution_count": 30,
   "outputs": [],
   "source": [
    "def prepareTrainingData(config):\n",
    "    in_rate, in_data = wavfile.read(config[\"input_audio_path\"])\n",
    "    out_rate, out_data = wavfile.read(config[\"target_audio_path\"])\n",
    "    \n",
    "    if len(in_data) != len(out_data):\n",
    "        print(\"input and target files have different lengths\")\n",
    "        sys.exit()\n",
    "      \n",
    "    if len(in_data.shape) > 1 or len(out_data.shape) > 1:\n",
    "        print(\"expected mono files\")\n",
    "        sys.exit()\n",
    "\n",
    "    # Convert PCM16 to FP32\n",
    "    if in_data.dtype == \"int16\":\n",
    "        in_data = in_data / 32767\n",
    "        print(\"In data converted from PCM16 to FP32\")\n",
    "    if out_data.dtype == \"int16\":\n",
    "        out_data = out_data / 32767\n",
    "        print(\"Out data converted from PCM16 to FP32\")    \n",
    "\n",
    "    clean_data = in_data.astype(np.float32).flatten()\n",
    "    target_data = out_data.astype(np.float32).flatten()\n",
    "\n",
    "    # Split the data on a twenty percent mod\n",
    "    in_train, out_train, in_val, out_val = sliceOnMod(clean_data, target_data)\n",
    "\n",
    "    save_wav(config[\"output_path\"] + \"/train/\" + config[\"name\"] + \"-input.wav\", in_train)\n",
    "    save_wav(config[\"output_path\"] + \"/train/\" + config[\"name\"] + \"-target.wav\", out_train)\n",
    "\n",
    "    save_wav(config[\"output_path\"] + \"/test/\" + config[\"name\"] + \"-input.wav\", in_val)\n",
    "    save_wav(config[\"output_path\"] + \"/test/\" + config[\"name\"] + \"-target.wav\", out_val)\n",
    "\n",
    "    save_wav(config[\"output_path\"] + \"/val/\" + config[\"name\"] + \"-input.wav\", in_val)\n",
    "    save_wav(config[\"output_path\"] + \"/val/\" + config[\"name\"] + \"-target.wav\", out_val)\n"
   ],
   "metadata": {
    "collapsed": false,
    "ExecuteTime": {
     "end_time": "2024-01-02T17:09:57.798140400Z",
     "start_time": "2024-01-02T17:09:57.794064900Z"
    }
   },
   "id": "1cdc8701863f502b"
  },
  {
   "cell_type": "code",
   "execution_count": 31,
   "outputs": [],
   "source": [
    "def sliceOnMod(input_data, target_data, mod=5):\n",
    "    # Split the data on a modulus.\n",
    "\n",
    "    # Type cast to an integer the modulus\n",
    "    mod = int(mod)\n",
    "\n",
    "    # Split the data into 100 pieces\n",
    "    input_split = np.array_split(input_data, 100)\n",
    "    target_split = np.array_split(target_data, 100)\n",
    "\n",
    "    val_input_data = []\n",
    "    val_target_data = []\n",
    "    # Traverse the range of the indexes of the input signal reversed and pop every 5th for val\n",
    "    for i in reversed(range(len(input_split))):\n",
    "        if i % mod == 0:\n",
    "            # Store the validation data\n",
    "            val_input_data.append(input_split[i])\n",
    "            val_target_data.append(target_split[i])\n",
    "            # Remove the validation data from training\n",
    "            input_split.pop(i)\n",
    "            target_split.pop(i)\n",
    "\n",
    "    # Flatten val_data down to one dimension and concatenate\n",
    "    val_input_data = np.concatenate(val_input_data)\n",
    "    val_target_data = np.concatenate(val_target_data)\n",
    "\n",
    "    # Concatenate back together\n",
    "    training_input_data = np.concatenate(input_split)\n",
    "    training_target_data = np.concatenate(target_split)\n",
    "    return (training_input_data, training_target_data, val_input_data, val_target_data)"
   ],
   "metadata": {
    "collapsed": false,
    "ExecuteTime": {
     "end_time": "2024-01-02T17:09:59.091137100Z",
     "start_time": "2024-01-02T17:09:59.087129900Z"
    }
   },
   "id": "d2db02127a930a4c"
  },
  {
   "cell_type": "code",
   "execution_count": 32,
   "outputs": [],
   "source": [
    "def save_wav(name, data):\n",
    "    wavfile.write(name, 44100, data.flatten().astype(np.float32))"
   ],
   "metadata": {
    "collapsed": false,
    "ExecuteTime": {
     "end_time": "2024-01-02T17:10:00.950851700Z",
     "start_time": "2024-01-02T17:10:00.946203700Z"
    }
   },
   "id": "8ac5a30c5ce341b1"
  },
  {
   "cell_type": "code",
   "execution_count": null,
   "outputs": [],
   "source": [
    "def train():\n",
    "    # Generate name of directory where results will be saved\n",
    "    save_path = os.path.join(args.save_location, args.device + '-' + args.load_config)"
   ],
   "metadata": {
    "collapsed": false
   },
   "id": "d79d41296b861be"
  },
  {
   "cell_type": "code",
   "execution_count": 35,
   "outputs": [
    {
     "name": "stdout",
     "output_type": "stream",
     "text": [
      "In data converted from PCM16 to FP32\n",
      "Out data converted from PCM16 to FP32\n"
     ]
    }
   ],
   "source": [
    "config = {\n",
    "    \"hidden_size\": 20,\n",
    "    \"unit_type\": \"LSTM\",\n",
    "    \"loss_fcns\": {\"ESR\": 0.75, \"DC\": 0.25},\n",
    "    \"pre_filt\": \"high_pass\",\n",
    "    \"device\": \"acoustic1-pre\",\n",
    "    \"file_name\": \"acoustic1-pre\",\n",
    "    \"name\": \"test\",\n",
    "    \"input_audio_path\": \"Data/val/ht1-input.wav\",\n",
    "    \"target_audio_path\": \"Data/val/ht1-target.wav\",\n",
    "    \"output_path\": \"Data\"\n",
    "}\n",
    "\n",
    "prepareTrainingData(config)"
   ],
   "metadata": {
    "collapsed": false,
    "ExecuteTime": {
     "end_time": "2024-01-02T17:10:34.772893800Z",
     "start_time": "2024-01-02T17:10:34.717377300Z"
    }
   },
   "id": "c7cc0b6f364b5692"
  },
  {
   "cell_type": "code",
   "execution_count": null,
   "outputs": [],
   "source": [],
   "metadata": {
    "collapsed": false
   },
   "id": "ddc03fcf5a2209c3"
  }
 ],
 "metadata": {
  "kernelspec": {
   "display_name": "Python 3",
   "language": "python",
   "name": "python3"
  },
  "language_info": {
   "codemirror_mode": {
    "name": "ipython",
    "version": 2
   },
   "file_extension": ".py",
   "mimetype": "text/x-python",
   "name": "python",
   "nbconvert_exporter": "python",
   "pygments_lexer": "ipython2",
   "version": "2.7.6"
  }
 },
 "nbformat": 4,
 "nbformat_minor": 5
}
